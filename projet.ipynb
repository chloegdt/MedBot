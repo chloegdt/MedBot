{
 "cells": [
  {
   "cell_type": "markdown",
   "metadata": {
    "id": "e1p-OilaAvNT"
   },
   "source": [
    "# MedBot\n",
    "\n",
    "### Miniprojet dans le cadre de l'UE \"Réseaux de neurones\" - M2 AMIS\n",
    "\n",
    "GODET Chloé et GROSJACQUES Marwane\n",
    "___________________________________\n",
    "\n",
    "## Pourquoi un chatbot médical ? \n",
    "\n",
    "Un chatbot médical pourrait être un outil précieux pour des patients. En effet, le fait que cet outil soit disponible 7j/7 et 24h/24 permettraient à ceux qui souhaitent poser leurs questions d'avoir un interlocuteur toujours disponible. De plus, pour les personnes vivant dans des zones isolées (dans les déserts médicaux notamment) ou ayant des difficultés à se déplacer, le chatbot peut représenter un premier contact pour obtenir des informations ou un premier avis avant de consulter un professionnel.\n",
    "\n",
    "Un chatbot peut analyser les réponses des utilisateurs et fournir des recommandations adaptées comme suggérer une consultation avec un spécialiste ou encore orienter vers un service d'urgence en cas de symptômes graves.\n",
    "Cependant, un chatbot médical ne remplace en aucun cas un médecin. Les diagnostics, traitements et décisions médicales doivent toujours être confiés à des professionnels de santé qualifiés.\n",
    "\n",
    "## Notre objectif\n",
    "\n",
    "Nous avons décidé de réaliser un chatbot médical (**MedBot**). Au vu de nos connaissances, du temps dont on dispose et surtout de nos ressources actuelles, nous savons que nous ne pouvons pas réaliser un chatbot réellement performant.\n",
    "\n",
    "L'objectif était, pour nous, de pouvoir lui donner un/des symptôme(s) et qu'il nous donne un diagnostic possible.\n",
    "Nous parlerons des améliorations possibles que nous aurions aimé implémenter à la fin de ce notebook.\n",
    "_________________________________"
   ]
  },
  {
   "cell_type": "markdown",
   "metadata": {},
   "source": [
    "## Importer le dataset\n",
    "\n",
    "Nous avons travaillé sur Google Colab tout au long de ce projet afin ed bénéficier du GPU que propose le site. En effet, lors de l'entraînement du modèle, l'utilisation seule du CPU n'était pas assez performante.\n",
    "\n",
    "La cellule suivante permet d'importer le dataset dans l'environnement de Google Colab."
   ]
  },
  {
   "cell_type": "code",
   "execution_count": null,
   "metadata": {
    "colab": {
     "base_uri": "https://localhost:8080/",
     "height": 137
    },
    "id": "KaOsk0FzzMyL",
    "outputId": "c70c7baa-fc8a-4c0a-e29a-3f2317e17c12"
   },
   "outputs": [
    {
     "data": {
      "text/html": [
       "\n",
       "     <input type=\"file\" id=\"files-e1c8dac0-3cec-46bb-9dc6-b4d75bf36728\" name=\"files[]\" multiple disabled\n",
       "        style=\"border:none\" />\n",
       "     <output id=\"result-e1c8dac0-3cec-46bb-9dc6-b4d75bf36728\">\n",
       "      Upload widget is only available when the cell has been executed in the\n",
       "      current browser session. Please rerun this cell to enable.\n",
       "      </output>\n",
       "      <script>// Copyright 2017 Google LLC\n",
       "//\n",
       "// Licensed under the Apache License, Version 2.0 (the \"License\");\n",
       "// you may not use this file except in compliance with the License.\n",
       "// You may obtain a copy of the License at\n",
       "//\n",
       "//      http://www.apache.org/licenses/LICENSE-2.0\n",
       "//\n",
       "// Unless required by applicable law or agreed to in writing, software\n",
       "// distributed under the License is distributed on an \"AS IS\" BASIS,\n",
       "// WITHOUT WARRANTIES OR CONDITIONS OF ANY KIND, either express or implied.\n",
       "// See the License for the specific language governing permissions and\n",
       "// limitations under the License.\n",
       "\n",
       "/**\n",
       " * @fileoverview Helpers for google.colab Python module.\n",
       " */\n",
       "(function(scope) {\n",
       "function span(text, styleAttributes = {}) {\n",
       "  const element = document.createElement('span');\n",
       "  element.textContent = text;\n",
       "  for (const key of Object.keys(styleAttributes)) {\n",
       "    element.style[key] = styleAttributes[key];\n",
       "  }\n",
       "  return element;\n",
       "}\n",
       "\n",
       "// Max number of bytes which will be uploaded at a time.\n",
       "const MAX_PAYLOAD_SIZE = 100 * 1024;\n",
       "\n",
       "function _uploadFiles(inputId, outputId) {\n",
       "  const steps = uploadFilesStep(inputId, outputId);\n",
       "  const outputElement = document.getElementById(outputId);\n",
       "  // Cache steps on the outputElement to make it available for the next call\n",
       "  // to uploadFilesContinue from Python.\n",
       "  outputElement.steps = steps;\n",
       "\n",
       "  return _uploadFilesContinue(outputId);\n",
       "}\n",
       "\n",
       "// This is roughly an async generator (not supported in the browser yet),\n",
       "// where there are multiple asynchronous steps and the Python side is going\n",
       "// to poll for completion of each step.\n",
       "// This uses a Promise to block the python side on completion of each step,\n",
       "// then passes the result of the previous step as the input to the next step.\n",
       "function _uploadFilesContinue(outputId) {\n",
       "  const outputElement = document.getElementById(outputId);\n",
       "  const steps = outputElement.steps;\n",
       "\n",
       "  const next = steps.next(outputElement.lastPromiseValue);\n",
       "  return Promise.resolve(next.value.promise).then((value) => {\n",
       "    // Cache the last promise value to make it available to the next\n",
       "    // step of the generator.\n",
       "    outputElement.lastPromiseValue = value;\n",
       "    return next.value.response;\n",
       "  });\n",
       "}\n",
       "\n",
       "/**\n",
       " * Generator function which is called between each async step of the upload\n",
       " * process.\n",
       " * @param {string} inputId Element ID of the input file picker element.\n",
       " * @param {string} outputId Element ID of the output display.\n",
       " * @return {!Iterable<!Object>} Iterable of next steps.\n",
       " */\n",
       "function* uploadFilesStep(inputId, outputId) {\n",
       "  const inputElement = document.getElementById(inputId);\n",
       "  inputElement.disabled = false;\n",
       "\n",
       "  const outputElement = document.getElementById(outputId);\n",
       "  outputElement.innerHTML = '';\n",
       "\n",
       "  const pickedPromise = new Promise((resolve) => {\n",
       "    inputElement.addEventListener('change', (e) => {\n",
       "      resolve(e.target.files);\n",
       "    });\n",
       "  });\n",
       "\n",
       "  const cancel = document.createElement('button');\n",
       "  inputElement.parentElement.appendChild(cancel);\n",
       "  cancel.textContent = 'Cancel upload';\n",
       "  const cancelPromise = new Promise((resolve) => {\n",
       "    cancel.onclick = () => {\n",
       "      resolve(null);\n",
       "    };\n",
       "  });\n",
       "\n",
       "  // Wait for the user to pick the files.\n",
       "  const files = yield {\n",
       "    promise: Promise.race([pickedPromise, cancelPromise]),\n",
       "    response: {\n",
       "      action: 'starting',\n",
       "    }\n",
       "  };\n",
       "\n",
       "  cancel.remove();\n",
       "\n",
       "  // Disable the input element since further picks are not allowed.\n",
       "  inputElement.disabled = true;\n",
       "\n",
       "  if (!files) {\n",
       "    return {\n",
       "      response: {\n",
       "        action: 'complete',\n",
       "      }\n",
       "    };\n",
       "  }\n",
       "\n",
       "  for (const file of files) {\n",
       "    const li = document.createElement('li');\n",
       "    li.append(span(file.name, {fontWeight: 'bold'}));\n",
       "    li.append(span(\n",
       "        `(${file.type || 'n/a'}) - ${file.size} bytes, ` +\n",
       "        `last modified: ${\n",
       "            file.lastModifiedDate ? file.lastModifiedDate.toLocaleDateString() :\n",
       "                                    'n/a'} - `));\n",
       "    const percent = span('0% done');\n",
       "    li.appendChild(percent);\n",
       "\n",
       "    outputElement.appendChild(li);\n",
       "\n",
       "    const fileDataPromise = new Promise((resolve) => {\n",
       "      const reader = new FileReader();\n",
       "      reader.onload = (e) => {\n",
       "        resolve(e.target.result);\n",
       "      };\n",
       "      reader.readAsArrayBuffer(file);\n",
       "    });\n",
       "    // Wait for the data to be ready.\n",
       "    let fileData = yield {\n",
       "      promise: fileDataPromise,\n",
       "      response: {\n",
       "        action: 'continue',\n",
       "      }\n",
       "    };\n",
       "\n",
       "    // Use a chunked sending to avoid message size limits. See b/62115660.\n",
       "    let position = 0;\n",
       "    do {\n",
       "      const length = Math.min(fileData.byteLength - position, MAX_PAYLOAD_SIZE);\n",
       "      const chunk = new Uint8Array(fileData, position, length);\n",
       "      position += length;\n",
       "\n",
       "      const base64 = btoa(String.fromCharCode.apply(null, chunk));\n",
       "      yield {\n",
       "        response: {\n",
       "          action: 'append',\n",
       "          file: file.name,\n",
       "          data: base64,\n",
       "        },\n",
       "      };\n",
       "\n",
       "      let percentDone = fileData.byteLength === 0 ?\n",
       "          100 :\n",
       "          Math.round((position / fileData.byteLength) * 100);\n",
       "      percent.textContent = `${percentDone}% done`;\n",
       "\n",
       "    } while (position < fileData.byteLength);\n",
       "  }\n",
       "\n",
       "  // All done.\n",
       "  yield {\n",
       "    response: {\n",
       "      action: 'complete',\n",
       "    }\n",
       "  };\n",
       "}\n",
       "\n",
       "scope.google = scope.google || {};\n",
       "scope.google.colab = scope.google.colab || {};\n",
       "scope.google.colab._files = {\n",
       "  _uploadFiles,\n",
       "  _uploadFilesContinue,\n",
       "};\n",
       "})(self);\n",
       "</script> "
      ],
      "text/plain": [
       "<IPython.core.display.HTML object>"
      ]
     },
     "metadata": {},
     "output_type": "display_data"
    },
    {
     "name": "stdout",
     "output_type": "stream",
     "text": [
      "Saving dataset.csv to dataset.csv\n",
      "User uploaded file \"dataset.csv\" with length 30664 bytes\n"
     ]
    }
   ],
   "source": [
    "from google.colab import files\n",
    "\n",
    "uploaded = files.upload()\n",
    "\n",
    "for fn in uploaded.keys():\n",
    "  print('User uploaded file \"{name}\" with length {length} bytes'.format(name=fn, length=len(uploaded[fn])))"
   ]
  },
  {
   "cell_type": "markdown",
   "metadata": {
    "id": "H8iAdfpcBEBe"
   },
   "source": [
    "# Les librairies"
   ]
  },
  {
   "cell_type": "markdown",
   "metadata": {},
   "source": [
    "Voici toutes les librairies que nous avons utilisées."
   ]
  },
  {
   "cell_type": "code",
   "execution_count": 49,
   "metadata": {
    "id": "nJfTvNMuzuZD"
   },
   "outputs": [],
   "source": [
    "import torch                    # module principal pour notre réseau de neurones\n",
    "import math                     # calcul du log pour le positional encoding\n",
    "import pickle                   # sauvegarde et chargement du tokenizer\n",
    "import pandas as pd             # lecture du dataset\n",
    "import matplotlib.pyplot as plt # dessine la courbe des epochs"
   ]
  },
  {
   "cell_type": "markdown",
   "metadata": {
    "id": "VqzGxQt023DA"
   },
   "source": [
    "# Le modèle"
   ]
  },
  {
   "cell_type": "markdown",
   "metadata": {},
   "source": [
    "Comme nous sommes curieux et que nous aimons comprendre dans sa globalité ce qu'on utilise, nous avons choisis d'implémenter notre modèle et de ne pas utiliser de modèle pré-entraîné. Nous avons utilisé le transformer de pytorch, mais nous avons réalisé notre propre tokenization, notre positionnal encoding et nous avons généré des tokens du chatbot. Nous expliquerons cela dans la suite."
   ]
  },
  {
   "cell_type": "code",
   "execution_count": 50,
   "metadata": {
    "id": "pwA6C21lz_wl"
   },
   "outputs": [],
   "source": [
    "D_MODEL = 64"
   ]
  },
  {
   "cell_type": "markdown",
   "metadata": {},
   "source": [
    "`D_MODEL` est la dimension de notre modèle, c'est à dire le nombre de tokens que nous pouvons donner en input à notre modèle."
   ]
  },
  {
   "cell_type": "markdown",
   "metadata": {},
   "source": [
    "## Le tokenizer"
   ]
  },
  {
   "cell_type": "markdown",
   "metadata": {},
   "source": [
    "Nous avons décidé de faire notre propre tokenizer qui sera rempli avec les mots de notre dataset.\n",
    "Il est composé de 4 tokens spéciaux :\n",
    "- **PAD**, le padding\n",
    "- **CLS**, le début de la phrase\n",
    "- **SEP**, la fin de la phrase\n",
    "- **UNK**, lorsque le mot n'est pas connu et ne doit pas être ajouté au tokenizer\n",
    "\n",
    "Ensuite, chaque mot encodé avec le tokenizer permet de le remplir. En effet, si un mot n'est pas encore reconnu par le tokenizer, nous lui attribuons un nouveau token qui sera redonné à chaque apparition de ce mot.\n",
    "\n",
    "Le tokenizer permet d'**encoder** une phrase et de **décoder** une suite de tokens.\n",
    "\n",
    "Nous avons aussi implémenté la sauvegarde et le chargement du tokenizer afin de ne pas avoir à le reremplir à chaque fois."
   ]
  },
  {
   "cell_type": "code",
   "execution_count": 7,
   "metadata": {
    "id": "9KfSw2eIzwGh"
   },
   "outputs": [],
   "source": [
    "class Tokenizer:\n",
    "    pad_token_id = 0\n",
    "    pad_token = \"[PAD]\"\n",
    "    cls_token_id = 1\n",
    "    cls_token = \"[CLS]\"\n",
    "    sep_token_id = 2\n",
    "    sep_token = \"[SEP]\"\n",
    "    unk_token_id = 3\n",
    "    unk_token = \"[UNK]\"\n",
    "    special_tokens = [pad_token_id, cls_token_id, sep_token_id, unk_token_id]\n",
    "\n",
    "\n",
    "    def __init__(self, filename=None):\n",
    "        if filename:\n",
    "            with open(filename, 'rb') as file:\n",
    "                self.vocab = pickle.load(file)\n",
    "            self.next_token_id = max(self.vocab.values()) + 1\n",
    "            if len(self.vocab) != self.next_token_id:\n",
    "                print(\"Token(s) manquant(s) dans le vocabulaire\")\n",
    "                exit(1)\n",
    "\n",
    "        else:\n",
    "            self.vocab = {\n",
    "                    self.pad_token: self.pad_token_id,\n",
    "                    self.cls_token: self.cls_token_id,\n",
    "                    self.sep_token: self.sep_token_id,\n",
    "                    self.unk_token: self.unk_token_id\n",
    "            }\n",
    "            self.next_token_id = 4\n",
    "\n",
    "    def add_word(self, word):\n",
    "        self.vocab[word] = self.next_token_id\n",
    "        self.next_token_id += 1\n",
    "\n",
    "    def get_word(self, token):\n",
    "        if 0 <= token and token < self.next_token_id:\n",
    "            return list(self.vocab.keys())[list(self.vocab.values()).index(token)]\n",
    "        else:\n",
    "            exit(1)\n",
    "\n",
    "    def vocab_size(self):\n",
    "        return len(self.vocab)\n",
    "\n",
    "    def encode(self, text, size=D_MODEL, should_extend=False):\n",
    "        words = text.strip().lower().split(' ')\n",
    "        tokens = [self.cls_token_id]\n",
    "        for word in words:\n",
    "            if word in self.vocab.keys():\n",
    "                tokens.append(self.vocab[word])\n",
    "            elif should_extend:\n",
    "                self.add_word(word)\n",
    "                tokens.append(self.vocab[word])\n",
    "            else:\n",
    "                tokens.append(self.unk_token_id)\n",
    "\n",
    "        tokens.append(self.sep_token_id)\n",
    "\n",
    "        if len(tokens) > size: print(\"[WARNING] Phrase trop longue\")\n",
    "        while len(tokens) < size:\n",
    "            tokens.append(self.pad_token_id)\n",
    "\n",
    "        return tokens\n",
    "\n",
    "    def decode(self, tokens, skip_special_tokens=False):\n",
    "        if skip_special_tokens:\n",
    "            words = [self.get_word(token) for token in tokens if token not in self.special_tokens]\n",
    "        else:\n",
    "            words = [self.get_word(token) for token in tokens]\n",
    "\n",
    "        return \" \".join(words)\n",
    "\n",
    "    def save(self, filename):\n",
    "        with open(filename, 'wb') as file:\n",
    "            pickle.dump(self.vocab, file, protocol=pickle.HIGHEST_PROTOCOL)"
   ]
  },
  {
   "cell_type": "markdown",
   "metadata": {
    "id": "bzAm5JdKbSiu"
   },
   "source": [
    "## Positional Encoding"
   ]
  },
  {
   "cell_type": "markdown",
   "metadata": {},
   "source": [
    "Pytorch ne propose pas de Positional Encoding, nous avons donc écrit notre propre Positional Encoding (celui vu en cours)."
   ]
  },
  {
   "cell_type": "code",
   "execution_count": 8,
   "metadata": {
    "id": "oX2vwSTszwRV"
   },
   "outputs": [],
   "source": [
    "class PositionalEncoding(torch.nn.Module):\n",
    "    def __init__(self, d_model, max_len=100, dropout=0.1):\n",
    "        super(PositionalEncoding, self).__init__()\n",
    "        self.dropout = torch.nn.Dropout(p=dropout)\n",
    "\n",
    "        pe = torch.zeros(max_len, d_model)\n",
    "        position = torch.arange(0, max_len, dtype=torch.float).unsqueeze(1)\n",
    "        div_term = torch.exp(torch.arange(0, d_model, 2).float() * (-math.log(10000.0) / d_model))\n",
    "        pe[:, 0::2] = torch.sin(position * div_term)  # sin sur indices pairs\n",
    "        pe[:, 1::2] = torch.cos(position * div_term)  # cos sur indices impairs\n",
    "\n",
    "        self.register_buffer(\"pe\", pe)\n",
    "\n",
    "    def forward(self, x):\n",
    "        x = x + self.pe[:, :x.size(1), :]\n",
    "        return self.dropout(x)"
   ]
  },
  {
   "cell_type": "markdown",
   "metadata": {},
   "source": [
    "## Notre modèle principal"
   ]
  },
  {
   "cell_type": "code",
   "execution_count": 9,
   "metadata": {
    "id": "r79-7KuGzwNY"
   },
   "outputs": [],
   "source": [
    "class TransformerModel(torch.nn.Module):\n",
    "    def __init__(self, vocab_size, d_model=D_MODEL, nhead=8, num_encoder_layers=6, num_decoder_layers=6, dim_feedforward=2048, dropout=0.1):\n",
    "        super(TransformerModel, self).__init__()\n",
    "        self.embedding = torch.nn.Embedding(vocab_size, d_model)\n",
    "        self.positional_encoding = PositionalEncoding(d_model, dropout=dropout)\n",
    "        self.transformer = torch.nn.Transformer(d_model, nhead, num_encoder_layers, num_decoder_layers, dim_feedforward, dropout, batch_first=True)\n",
    "        self.fc_out = torch.nn.Linear(d_model, vocab_size)\n",
    "        self.src_pad_idx = None\n",
    "        self.nhead = nhead\n",
    "\n",
    "    def forward(self, src, tgt):\n",
    "        src_emb = self.positional_encoding(self.embedding(src))\n",
    "        tgt_emb = self.positional_encoding(self.embedding(tgt))\n",
    "        tgt_mask = self.transformer.generate_square_subsequent_mask(tgt.size(1)).to(tgt.device)\n",
    "        src_mask = (src == 0).unsqueeze(1).unsqueeze(2).expand(-1, self.nhead, D_MODEL, -1)\n",
    "        src_mask = src_mask.reshape(src.size(0)*self.nhead, D_MODEL, D_MODEL)\n",
    "\n",
    "        output = self.transformer(src_emb, tgt_emb, src_mask=src_mask, tgt_mask=tgt_mask)\n",
    "        return self.fc_out(output)"
   ]
  },
  {
   "cell_type": "code",
   "execution_count": 16,
   "metadata": {},
   "outputs": [],
   "source": [
    "torch.serialization.add_safe_globals([TransformerModel])"
   ]
  },
  {
   "cell_type": "markdown",
   "metadata": {
    "id": "actn6o_k28pp"
   },
   "source": [
    "# Le dataset"
   ]
  },
  {
   "cell_type": "markdown",
   "metadata": {},
   "source": [
    "Trouver un dataset médical complet est compliqué. Nous cherchions un dataset qui associe des symptômes à un diagnostic possible. Exemple : \n",
    "- les symptômes : forte fièvre, douleurs musculaires, frissons, fatigue\n",
    "- la maladie possible : la grippe\n",
    "\n",
    "Nous avons rapidement exclut de créer le dataset puisque cela nécessite soit de nombreuses connaissances en médecine, soit un temps très important pour chercher un ensemble de maladies possibles et lui associer \"à la main\" tous les symptômes les plus fréquents. \n",
    "\n",
    "Nous avons opté pour une sorte de mélange : \n",
    "- nous avons récupéré un [dataset](https://www.geeksforgeeks.org/talking-healthcare-chatbot-using-deep-learning/)\n",
    "- nous avons ajouté des symptômes et des maladies à la main pour l'enrichir un petit peu\n",
    "\n",
    "Notre dataset est \"petit\" : \n",
    "on a 124 maladies possibles, et pour chacune on a entre 3 et 11 symptômes ainsi que 2 ou 3 réponses possibles. \n",
    "Nous avons donc fait toutes les combinaisons possibles des symptômes avec les réponses correspondantes, et on obtient un peu plus de 2300 données.\n",
    "\n",
    "Travailler avec un petit dataset a été un réel challenge, et si nous avions eu plus de temps, nous aurions aimé pouvoir l'enrichir encore davantage!"
   ]
  },
  {
   "cell_type": "code",
   "execution_count": 10,
   "metadata": {
    "id": "3o89aREJV2ok"
   },
   "outputs": [],
   "source": [
    "def load_dataset(filename, tokenizer):\n",
    "    data = pd.read_csv(filename)\n",
    "\n",
    "    dataset_src = []\n",
    "    dataset_tgt = []\n",
    "\n",
    "\n",
    "    for index, row in data.iterrows():\n",
    "        row_patterns = [row[col] for col in row.index if \"intents/patterns\" in col and pd.notna(row[col])]\n",
    "        row_responses = [row[col] for col in row.index if \"intents/responses\" in col and pd.notna(row[col])]\n",
    "\n",
    "        for response in row_responses:\n",
    "            for pattern in row_patterns:\n",
    "                dataset_src.append(tokenizer.encode(pattern, should_extend=True))\n",
    "                dataset_tgt.append(tokenizer.encode(response, should_extend=True))\n",
    "\n",
    "            dataset_src.append(tokenizer.encode(\"i have \"+\" and \".join(row_patterns), should_extend=True))\n",
    "            dataset_tgt.append(tokenizer.encode(response, should_extend=True))\n",
    "\n",
    "    return torch.tensor(dataset_src), torch.tensor(dataset_tgt)"
   ]
  },
  {
   "cell_type": "markdown",
   "metadata": {},
   "source": [
    "# Entrainement du modèle"
   ]
  },
  {
   "cell_type": "markdown",
   "metadata": {},
   "source": [
    "On définit ensuite notre fonction d'apprentissage.\n",
    "\n",
    "Nous avons opté pour 1000 epochs et un apprentissage par batch de taille 200 avec permutation aléatoire."
   ]
  },
  {
   "cell_type": "code",
   "execution_count": 11,
   "metadata": {
    "id": "aZwiXhs9zwYT"
   },
   "outputs": [],
   "source": [
    "def train_model(model, dataset_src, dataset_tgt, vocab_size, pad_id):\n",
    "    criterion = torch.nn.CrossEntropyLoss(ignore_index=pad_id)\n",
    "    optimizer = torch.optim.Adam(model.parameters(), lr=0.001)\n",
    "\n",
    "    epochs = 1000\n",
    "    batch_size = 200\n",
    "\n",
    "\n",
    "    for epoch in range(epochs):\n",
    "        model.train()\n",
    "        epoch_loss = 0\n",
    "\n",
    "        permutation = torch.randperm(dataset_src.size()[0])\n",
    "\n",
    "        for i in range(0, len(dataset_src), batch_size):\n",
    "            indices = permutation[i:i+batch_size]\n",
    "            src_batch = dataset_src[indices]\n",
    "            tgt_batch = dataset_tgt[indices]\n",
    "\n",
    "            decoder_input = tgt_batch[:, :-1]  # Entrée du décodeur (sans le dernier token)\n",
    "            decoder_target = tgt_batch[:, 1:]  # Cible (sans le premier token)\n",
    "\n",
    "            optimizer.zero_grad()\n",
    "            output = model(src_batch, decoder_input)\n",
    "            loss = criterion(output.view(-1, vocab_size), decoder_target.reshape(-1))\n",
    "            loss.backward()\n",
    "            optimizer.step()\n",
    "\n",
    "            epoch_loss += loss.item()\n",
    "\n",
    "        print(f\"Epoch {epoch+1}, Loss: {epoch_loss / len(dataset_src)}\")"
   ]
  },
  {
   "cell_type": "markdown",
   "metadata": {},
   "source": [
    "On combine ensuite le tout pour que notre modèle apprenne avec notre dataset."
   ]
  },
  {
   "cell_type": "code",
   "execution_count": 12,
   "metadata": {
    "id": "qtx_RPo5Wb1I"
   },
   "outputs": [],
   "source": [
    "dataset_file = \"./dataset.csv\""
   ]
  },
  {
   "cell_type": "code",
   "execution_count": 13,
   "metadata": {},
   "outputs": [],
   "source": [
    "tokenizer = Tokenizer()\n",
    "dataset_src, dataset_tgt = load_dataset(dataset_file, tokenizer)"
   ]
  },
  {
   "cell_type": "code",
   "execution_count": null,
   "metadata": {},
   "outputs": [],
   "source": [
    "model = TransformerModel(tokenizer.vocab_size())"
   ]
  },
  {
   "cell_type": "code",
   "execution_count": null,
   "metadata": {
    "colab": {
     "base_uri": "https://localhost:8080/"
    },
    "id": "MzeH-vtwzWGw",
    "outputId": "94e97566-e9ac-4a79-a549-cdc17bbc0f51",
    "scrolled": true
   },
   "outputs": [],
   "source": [
    "device = torch.device(\"cuda\" if torch.cuda.is_available() else \"cpu\")\n",
    "print(\"Device:\", device)\n",
    "\n",
    "dataset_src = dataset_src.to(device)\n",
    "dataset_tgt = dataset_tgt.to(device)\n",
    "model = model.to(device)\n",
    "\n",
    "train_model(model, dataset_src, dataset_tgt, tokenizer.vocab_size(), tokenizer.pad_token_id)"
   ]
  },
  {
   "cell_type": "markdown",
   "metadata": {},
   "source": [
    "**Voici la courbe d'apprentissage de notre modèle sur 1000 epochs.**"
   ]
  },
  {
   "cell_type": "code",
   "execution_count": 5,
   "metadata": {},
   "outputs": [
    {
     "name": "stdout",
     "output_type": "stream",
     "text": [
      "            0\n",
      "0    0.032375\n",
      "1    0.027359\n",
      "2    0.022264\n",
      "3    0.019253\n",
      "4    0.017256\n",
      "..        ...\n",
      "995  0.000952\n",
      "996  0.000945\n",
      "997  0.000937\n",
      "998  0.000926\n",
      "999  0.000920\n",
      "\n",
      "[1000 rows x 1 columns]\n"
     ]
    },
    {
     "data": {
      "image/png": "[encoded data removed]",
      "text/plain": [
       "<Figure size 640x480 with 1 Axes>"
      ]
     },
     "metadata": {},
     "output_type": "display_data"
    }
   ],
   "source": [
    "data = pd.read_csv(\"./teaching.txt\", header=None)\n",
    "print(data)\n",
    "plt.yscale('logit')\n",
    "plt.plot(data)\n",
    "plt.show()"
   ]
  },
  {
   "cell_type": "markdown",
   "metadata": {},
   "source": [
    "## Sauvegarde et chargement du modèle"
   ]
  },
  {
   "cell_type": "code",
   "execution_count": 14,
   "metadata": {
    "id": "t3EbLLJz3cll"
   },
   "outputs": [],
   "source": [
    "torch.save(model, \"medbot.pt\")\n",
    "tokenizer.save(\"tokenizer.pkl\")"
   ]
  },
  {
   "cell_type": "code",
   "execution_count": 18,
   "metadata": {
    "id": "mF6IC7ISks0k"
   },
   "outputs": [],
   "source": [
    "model = torch.load(\"medbot.pt\", weights_only=False, map_location=torch.device('cpu'))\n",
    "tokenizer = Tokenizer(\"tokenizer.pkl\")"
   ]
  },
  {
   "cell_type": "markdown",
   "metadata": {
    "id": "86zgYcKZCSU1"
   },
   "source": [
    "\n",
    "# Utilisation du modèle\n",
    "\n",
    "La fonction `top_k_sampling` permet de choisir un token parmis les **k** meilleurs. Cela donne un aspect aléatoire à la phrase construite par le modèle.\n",
    "\n",
    "Pour ce faire, nous prenons les k tokens avec le meilleur score. Nous transformons les scores en probabilité à l'aide de la fonction **softmax**. Nous tirons un token aléatoirement parmi les k en fonction de leur probabilité respective."
   ]
  },
  {
   "cell_type": "code",
   "execution_count": null,
   "metadata": {},
   "outputs": [],
   "source": [
    "def top_k_sampling(logits, k=3):\n",
    "    top_k_probs, top_k_indices = torch.topk(torch.softmax(logits, dim=-1), k=k)\n",
    "    idx = torch.multinomial(top_k_probs, num_samples=1)\n",
    "    next_token = top_k_indices[idx]\n",
    "    probability = top_k_probs[idx]\n",
    "    return next_token, probability.item()"
   ]
  },
  {
   "cell_type": "markdown",
   "metadata": {},
   "source": [
    "Nous pouvons alors générer une phrase avec notre modèle :\n",
    "- La phrase source est transformée en tokens via notre tokenizer\n",
    "- La phrase de sortie est initialisée avec le token **CLS** de notre tokenizer\n",
    "- À chaque itération, nous donnons la phrase source et la phrase de sortie à notre modèle\n",
    "- Un token est alors choisi aléatoirement avec `top_k_sampling` à partir des scores retournés par le modèle\n",
    "- On ajoute ce token à la phrase de sortie\n",
    "- Lorsque nous rencontrons le token **SEP** (ou que la taille maximale est atteinte), la phrase de sortie est finie et nous la décodons avec le tokenizer"
   ]
  },
  {
   "cell_type": "code",
   "execution_count": 53,
   "metadata": {
    "id": "dHXFMKds0QKJ"
   },
   "outputs": [],
   "source": [
    "def valid_tokens(tokens, tokenizer):\n",
    "    for token in tokens:\n",
    "        if token not in tokenizer.special_tokens:\n",
    "            return True\n",
    "    return False\n",
    "\n",
    "def generate_answer(model, sentence, tokenizer, skip_special_tokens=False, max_len=64):\n",
    "    model.to('cpu')\n",
    "    model.eval()\n",
    "    src_tokens = tokenizer.encode(sentence)\n",
    "    if not valid_tokens(src_tokens, tokenizer):\n",
    "      return \"I did not understand.\"\n",
    "    src = torch.tensor(src_tokens).unsqueeze(0)\n",
    "    tgt = torch.tensor([tokenizer.cls_token_id]).unsqueeze(0)\n",
    "\n",
    "    first_word_probability = None\n",
    "    for _ in range(max_len):\n",
    "        output = model(src, tgt)\n",
    "        next_token, probability = top_k_sampling(output[0, -1, :])\n",
    "        if _ == 0: first_word_probability = probability\n",
    "        tgt = torch.cat([tgt, torch.tensor([[next_token]])], dim=1)\n",
    "        if next_token == tokenizer.sep_token_id:\n",
    "            break\n",
    "\n",
    "    return tokenizer.decode(tgt[0], skip_special_tokens=skip_special_tokens), first_word_probability"
   ]
  },
  {
   "cell_type": "markdown",
   "metadata": {},
   "source": [
    "Ici, nous testons la génération de phrases en donner au modèle différents inputs. Pour chaque input, nous avons la phrase générée ainsi que la probabilité de son premier mot."
   ]
  },
  {
   "cell_type": "code",
   "execution_count": 44,
   "metadata": {},
   "outputs": [
    {
     "name": "stdout",
     "output_type": "stream",
     "text": [
      "input : hello\n",
      "(31.4%) [CLS] hello! [SEP]\n",
      "\n",
      "input : i have fever\n",
      "(25.7%) [CLS] according to your symptoms you might have hepatitis a [SEP]\n",
      "\n",
      "input : thank you\n",
      "(28.2%) [CLS] talk to you later! [SEP]\n",
      "\n"
     ]
    }
   ],
   "source": [
    "test_sentences = [\n",
    "    \"hello\",\n",
    "    \"i have fever\",\n",
    "    \"thank you\"\n",
    "]\n",
    "\n",
    "for sentence in test_sentences:\n",
    "    answer, probability = generate_answer(model, sentence, tokenizer)\n",
    "    print(\"input :\", sentence)\n",
    "    print(f\"({probability*100:3.1f}%)\", answer)\n",
    "    print()"
   ]
  },
  {
   "cell_type": "markdown",
   "metadata": {},
   "source": [
    "# Le chabot interactif final\n",
    "Pour finir, le chatbot peut être testé interactivement."
   ]
  },
  {
   "cell_type": "code",
   "execution_count": 54,
   "metadata": {
    "id": "drHUlwXI0VEy"
   },
   "outputs": [],
   "source": [
    "def chat_with_bot(model, tokenizer):\n",
    "    print(\"[Start of conversation]\")\n",
    "    print(\"medbot: Hello, I am Medbot.\")\n",
    "    print(\"        You can stop the chat by typing 'quit', 'exit' or simply 'q'.\")\n",
    "    print(\"        Please tell me your symptoms.\")\n",
    "    while True:\n",
    "        txt = input(\"user: \").strip()\n",
    "        if txt in [\"q\", \"quit\", \"exit\"]: break\n",
    "        answer, probability = generate_answer(model, txt, tokenizer, skip_special_tokens=True)\n",
    "        print(\"medbot:\", answer)\n",
    "    print(\"[End of conversation]\")"
   ]
  },
  {
   "cell_type": "code",
   "execution_count": 55,
   "metadata": {
    "colab": {
     "base_uri": "https://localhost:8080/"
    },
    "id": "MPatJ1yw3YLg",
    "outputId": "8f80774b-e19f-4bc9-b3e4-e580101b6d5d"
   },
   "outputs": [
    {
     "name": "stdout",
     "output_type": "stream",
     "text": [
      "[Start of conversation]\n",
      "medbot: Hello, I am Medbot.\n",
      "        You can stop the chat by typing 'quit', 'exit' or simply 'q'.\n",
      "        Please tell me your symptoms.\n"
     ]
    },
    {
     "name": "stdin",
     "output_type": "stream",
     "text": [
      "user:  hello\n"
     ]
    },
    {
     "name": "stdout",
     "output_type": "stream",
     "text": [
      "medbot: hello, what can i do for you?\n"
     ]
    },
    {
     "name": "stdin",
     "output_type": "stream",
     "text": [
      "user:  i have difficulty swallowing\n"
     ]
    },
    {
     "name": "stdout",
     "output_type": "stream",
     "text": [
      "medbot: i suppose you have iron deficiency anaemia\n"
     ]
    },
    {
     "name": "stdin",
     "output_type": "stream",
     "text": [
      "user:  i also have jaw locking\n"
     ]
    },
    {
     "name": "stdout",
     "output_type": "stream",
     "text": [
      "medbot: have you been vaccinated against tetanus?\n"
     ]
    },
    {
     "name": "stdin",
     "output_type": "stream",
     "text": [
      "user:  Thank You, Goodbye\n"
     ]
    },
    {
     "name": "stdout",
     "output_type": "stream",
     "text": [
      "medbot: thank you to you too\n"
     ]
    },
    {
     "name": "stdin",
     "output_type": "stream",
     "text": [
      "user:  exit\n"
     ]
    },
    {
     "name": "stdout",
     "output_type": "stream",
     "text": [
      "[End of conversation]\n"
     ]
    }
   ],
   "source": [
    "chat_with_bot(model, tokenizer)"
   ]
  },
  {
   "cell_type": "markdown",
   "metadata": {},
   "source": [
    "# Améliorations"
   ]
  },
  {
   "cell_type": "markdown",
   "metadata": {},
   "source": [
    "Nous avons pensé à quelques améliorations.\n",
    "\n",
    "## **enrichissement du dataset**\n",
    "Comme mentionné dans l'introduction, un des principaux problèmes que nous rencontrons est lié au fait que le dataset soit trop petit. Une des améliorations évidentes serait de l'enrichir considérablement, notamment en termes médicaux mais également avec des termes de la vie courante tels que les conjugaisons des mots, des formulations familières etc... afin que le chatbot puisse comprendre des phrases plus complexes.\n",
    "\n",
    "## **la gestion d'une session**\n",
    "Notre chatbot ne comprend actuellement qu'une phrase, et l'oublie une fois que l'utilisateur en saisit une autre. \n",
    "Notre idée aurait été d'avoir une mémoire lors d'une session de telle sorte que, tout ce qu'aurait dit un utilisateur entre sa connexion et le moment où il quitte, soit pris en compte lors de la réponse du chatbot.\n",
    "Ainsi, l'utilisateur pourrait préciser ses symptômes au fur et à mesure de la discussion, et le chatbot pourrait ajuster ses réponses.\n",
    "\n",
    "## **la confiance du modèle**\n",
    "Aujourd'hui, notre modèle répond, quelque soit son niveau de confiance. \n",
    "On note deux sortes de cas :\n",
    "\n",
    "**Problème 1 :** l'utilisateur entre un symptôme qui est commun à plusieurs maladies : le chatbot donnera un diagnostic de maladie qui contient ce symptôme.  \n",
    "**Amélioration :** idéalement, s'il ne sait pas se décider, le chatbot devrait demander à l'utilisateur de lui donner d'autres symptômes afin d'affiner son diagnostic et pouvoir répondre avec un certain degré de confiance\n",
    "\n",
    "**Problème 2 :** lorsque l'utilisateur donne une phrase qui contient des tokens inconnus associés à des tokens connus, le chatbot répondra quelque chose de sûrement incohérent. Par exemple, si l'utilisateur dit \"I have a cat\", le chatbot reconnaîtra \"I have\" puisque cela fait partit de son vocabulaire, mais il ne connaît pas le \"a cat\". Malheureusement, pour le moment, le chatbot peut répondre que vous êtes probablement atteint d'un cancer.  \n",
    "**Amélioration :** il faudrait que notre modèle arrive à gérer ce genre de cas, et puisse fournir une réponse adaptée (soit il ne comprend pas la phrase et demande des précisions, soit informe qu'il ne comprend pas, soit arrive à extraire les informations pertinentes et si elles sont suffisantes, donne une réponse cohérente).   \n",
    "\n",
    "Toutefois, si le chatbot ne reconnaît aucun mot, il informera l'utilisateur qu'il n'a pas compris sa phrase."
   ]
  },
  {
   "cell_type": "markdown",
   "metadata": {},
   "source": [
    "# Conclusion"
   ]
  },
  {
   "cell_type": "markdown",
   "metadata": {},
   "source": [
    "Bien que nos ressources (en termes de GPU et de nombre de données) soient limitées, nous sommes contents d'avoir réussit à entraîner notre premier modèle et de pouvoir échanger avec un chatbot.\n",
    "Ce projet nous a permis de mieux comprendre le Transformer, bien que vu en cours, et de saisir l'importance de chaque étape (tokenisation, embedding etc...). \n",
    "Nous sommes presque déçus que le projet ne dure pas plus longtemps car nous trouvons celui-ci ludique et intéressant!"
   ]
  },
  {
   "cell_type": "code",
   "execution_count": 35,
   "metadata": {},
   "outputs": [
    {
     "name": "stdout",
     "output_type": "stream",
     "text": [
      "medbot: goodbye!\n"
     ]
    }
   ],
   "source": [
    "print(\"medbot:\", generate_answer(model, \"Bye\", tokenizer, skip_special_tokens=True)[0])"
   ]
  }
 ],
 "metadata": {
  "accelerator": "GPU",
  "colab": {
   "gpuType": "T4",
   "provenance": []
  },
  "kernelspec": {
   "display_name": "Python 3 (ipykernel)",
   "language": "python",
   "name": "python3"
  },
  "language_info": {
   "codemirror_mode": {
    "name": "ipython",
    "version": 3
   },
   "file_extension": ".py",
   "mimetype": "text/x-python",
   "name": "python",
   "nbconvert_exporter": "python",
   "pygments_lexer": "ipython3",
   "version": "3.13.1"
  }
 },
 "nbformat": 4,
 "nbformat_minor": 4
}
