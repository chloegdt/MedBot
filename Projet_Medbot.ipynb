{
 "cells": [
  {
   "cell_type": "markdown",
   "id": "209498f1-4306-423f-84d9-bb035989bc5c",
   "metadata": {},
   "source": [
    "# MedBot"
   ]
  },
  {
   "cell_type": "markdown",
   "id": "a6f1c4bc-b0d8-45d3-a5a7-9cccc34fd11a",
   "metadata": {},
   "source": [
    "### Miniprojet dans le cadre de l'UE \"Réseaux de neurones\" - M2 AMIS"
   ]
  },
  {
   "cell_type": "markdown",
   "id": "96750ec3-300b-47c1-a7a4-ecbb0d185091",
   "metadata": {},
   "source": [
    "GODET Chloé et GROSJACQUES Marwane\n",
    "___________________________________"
   ]
  },
  {
   "cell_type": "markdown",
   "id": "faf8e0a5-2dc1-4cb6-8dd9-d74132c14733",
   "metadata": {},
   "source": [
    "## Pourquoi un chatbot médical ? "
   ]
  },
  {
   "cell_type": "markdown",
   "id": "7ccf3e8e-1de1-46b8-9471-4492a08c4ec7",
   "metadata": {},
   "source": [
    "Un chatbot médical pourrait être un outil précieux pour des patients. En effet, le fait que cet outil soit disponible 7j/7 et 24h/24 permettraient à ceux qui souhaitent poser leurs questions d'avoir un interlocuteur toujours disponible. De plus, pour les personnes vivant dans des zones isolées (dans les déserts médicaux notamment) ou ayant des difficultés à se déplacer, le chatbot peut représenter un premier contact pour obtenir des informations ou un premier avis avant de consulter un professionnel.\n",
    "\n",
    "Un chatbot peut analyser les réponses des utilisateurs et fournir des recommandations adaptées comme suggérer une consultation avec un spécialiste ou encore orienter vers un service d'urgence en cas de symptômes graves.\n",
    "Cependant, un chatbot médical ne remplace en aucun cas un médecin. Les diagnostics, traitements et décisions médicales doivent toujours être confiés à des professionnels de santé qualifiés."
   ]
  },
  {
   "cell_type": "markdown",
   "id": "04b5d38d-51c2-49e2-8ee7-172294c80bab",
   "metadata": {},
   "source": [
    "## Notre objectif"
   ]
  },
  {
   "cell_type": "markdown",
   "id": "dc6af699-10f3-4ecb-a258-f145ab83b086",
   "metadata": {},
   "source": [
    "Nous avons décidé de réaliser un chatbot médical (MedBot). Au vu de nos connaissances, du temps dont on dispose et surtout de nos ressources actuelles, nous savons que nous ne pouvons pas réaliser un chatbot réellement performant.\n",
    "\n",
    "L'objectif était, pour nous, de pouvoir lui donner un/des symptôme(s) et qu'il nous donne un diagnostic possible.\n",
    "Nous parlerons des améliorations possibles que nous aurions aimé implémenter à la fin de ce notebook. "
   ]
  },
  {
   "cell_type": "markdown",
   "id": "ed568841-b984-48d5-910b-a21a5824e721",
   "metadata": {},
   "source": [
    "## Nos données"
   ]
  },
  {
   "cell_type": "markdown",
   "id": "27ed0afc-b818-48e3-a10f-235dbde76482",
   "metadata": {},
   "source": [
    "Trouver un dataset médical complet est compliqué. Nous cherchions un dataset qui associe des symptômes à un diagnostic possible. Exemple : \n",
    "- les symptômes : forte fièvre, douleurs musculaires, frissons, fatigue\n",
    "- la maladie possible : la grippe\n",
    "\n",
    "Nous avons rapidement exclut de créer le dataset puisque cela nécessite soit de nombreuses connaissances en médecine, soit un temps très important pour chercher un ensemble de maladies possibles et lui associer \"à la main\" tous les symptômes les plus fréquents. \n",
    "\n",
    "Nous avons opté pour une sorte de mélange : \n",
    "- nous avons récupérer un dataset ici\n",
    "- nous avons ajouté des symptômes et des maladies à la main pour l'enrichir un petit peu\n",
    "\n",
    "Notre dataset est \"petit\" : \n",
    "on a 124 maladies possibles, et pour chacune on a entre 3 et 11 symptômes ainsi que 2 ou 3 réponses possibles. \n",
    "Nous avons donc fait toutes les combinaisons possibles des symptômes avec les réponses correspondantes, et on obtient un peu plus de 2300 données.\n",
    "\n",
    "Travailler avec un petit dataset a été un réel challenge, et si nous avions eu plus de temps, nous aurions aimé pouvoir l'enrichir encore davantage!\n",
    "\n",
    "_________________________________"
   ]
  },
  {
   "cell_type": "markdown",
   "id": "092cb45d-a243-4fc3-9ec9-cac4fc3be42d",
   "metadata": {},
   "source": [
    "## Notre implémentation"
   ]
  },
  {
   "cell_type": "markdown",
   "id": "576626b1-b7a1-4bea-bced-dc43d58abdad",
   "metadata": {},
   "source": [
    "#### GOOGLE COLLAB"
   ]
  },
  {
   "cell_type": "markdown",
   "id": "7d8a2a52-0535-4e3e-a3f7-036ff695577f",
   "metadata": {},
   "source": [
    "Nous avons travaillé sur google collab tout au long de ce projet afin ed bénéficier du GPU que propose le site. En effet, lors de l'entraînement du modèle, l'utilisation seule du CPU n'était pas assez performante. "
   ]
  },
  {
   "cell_type": "markdown",
   "id": "259f075a-615f-404d-be12-0a915b5b0644",
   "metadata": {},
   "source": [
    "#### Notre modèle\n",
    "Comme nous sommes curieux et que nous aimons comprendre dans sa globalité ce qu'on utilise, nous avons choisis d'implémenter notre modèle et de ne pas utiliser de modèle pré-entraîné. Nous avons utilisé le transformer de pytorch, mais nous avons réalisé notre propre tokenization, notre positionnal encoding et nous avons généré des tokens du chatbot. Nous expliquerons cela dans la suite. "
   ]
  },
  {
   "cell_type": "markdown",
   "id": "d34d31fa-219a-49bb-bd51-e11be3915f04",
   "metadata": {},
   "source": [
    "_________________________________"
   ]
  },
  {
   "cell_type": "markdown",
   "id": "59089488-0d70-4c3a-bbdf-cf623b53417c",
   "metadata": {},
   "source": [
    "## Améliorations"
   ]
  },
  {
   "cell_type": "markdown",
   "id": "8f3cd715-44ff-4266-a443-cdec40642d1e",
   "metadata": {},
   "source": [
    "### **enrichissement du dataset**\n",
    "Comme mentionné dans l'introduction, un des principaux problèmes que nous rencontrons est lié au fait que le dataset soit trop petit. Une des améliorations évidentes serait de l'enrichir considérablement, notamment en termes médicaux mais également avec des termes de la vie courante tels que les conjugaisons des mots, des formulations familières etc... afin que le chatbot puisse comprendre des phrases plus complexes.\n",
    "\n",
    "### **la gestion d'une session**\n",
    "Notre chatbot ne comprend actuellement qu'une phrase, et l'oublie une fois que l'utilisateur en saisit une autre. \n",
    "Notre idée aurait été d'avoir une mémoire lors d'une session de telle sorte que, tout ce qu'aurait dit un utilisateur entre sa connexion et le moment où il quitte, soit pris en compte lors de la réponse du chatbot.\n",
    "Ainsi, l'utilisateur pourrait préciser ses symptômes au fur et à mesure de la discussion, et le chatbot pourrait ajuster ses réponses.\n",
    "\n",
    "### **la confiance du modèle**\n",
    "Aujourd'hui, notre modèle répond, quelque soit son niveau de confiance. \n",
    "On note deux sortes de cas :\n",
    "\n",
    "**Problème 1 :** l'utilisateur entre un symptôme qui est commun à plusieurs maladies : le chatbot donnera un diagnostic de maladie qui contient ce symptôme. \n",
    "**Amélioration :** idéalement, s'il ne sait pas se décider, le chatbot devrait demander à l'utilisateur de lui donner d'autres symptômes afin d'affiner son diagnostic et pouvoir répondre avec un certain degré de confiance\n",
    "\n",
    "**Problème 2 :** lorsque l'utilisateur donne une phrase qui contient des tokens inconnus associés à des tokens connus, le chatbot répondra quelque chose de sûrement incohérent. Par exemple, si l'utilisateur dit \"I have a cat\", le chatbot reconnaîtra \"I have\" puisque cela fait partit de son vocabulaire, mais il ne connaît pas le \"a cat\". Malheureusement, pour le moment, le chatbot peut répondre que vous êtes probablement atteint d'un cancer.  \n",
    "**Amélioration :** il faudrait que notre modèle arrive à gérer ce genre de cas, et puisse fournir une réponse adaptée (soit il ne comprend pas la phrase et demande des précisions, soit informe qu'il ne comprend pas, soit arrive à extraire les informations pertinentes et si elles sont suffisantes, donne une réponse cohérente).   \n",
    "\n",
    "Toutefois, si le chatbot ne reconnaît aucun mot, il informera l'utilisateur qu'il n'a pas compris sa phrase. \n",
    "\n",
    "\n",
    "    "
   ]
  },
  {
   "cell_type": "markdown",
   "id": "d3e652e9-fc05-45f4-b9d3-64692bb10e38",
   "metadata": {},
   "source": [
    "## Conclusion"
   ]
  },
  {
   "cell_type": "markdown",
   "id": "65404d27-a5ec-42d6-b145-02b60b3eccf7",
   "metadata": {},
   "source": [
    "Bien que nos ressources (en termes de GPU et de nombre de données) soient limitées, nous sommes contents d'avoir réussit à entraîner notre premier modèle et de pouvoir échanger avec un chatbot.\n",
    "Ce projet nous a permis de mieux comprendre le Transformer, bien que vu en cours, et de saisir l'importance de chaque étape (tokenisation, embedding etc...). \n",
    "Nous sommes presque déçus que le projet ne dure pas plus longtemps car nous trouvons celui-ci ludique et intéressant!"
   ]
  }
 ],
 "metadata": {
  "kernelspec": {
   "display_name": "Python 3 (ipykernel)",
   "language": "python",
   "name": "python3"
  },
  "language_info": {
   "codemirror_mode": {
    "name": "ipython",
    "version": 3
   },
   "file_extension": ".py",
   "mimetype": "text/x-python",
   "name": "python",
   "nbconvert_exporter": "python",
   "pygments_lexer": "ipython3",
   "version": "3.13.1"
  }
 },
 "nbformat": 4,
 "nbformat_minor": 5
}
